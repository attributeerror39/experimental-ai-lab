{
 "cells": [
  {
   "cell_type": "markdown",
   "id": "ef1ae923",
   "metadata": {},
   "source": [
    "# Image(s) to Text\n",
    "\n",
    "## Artworks \n",
    "\n",
    "### Fito Segrera: 1 & N Chairs (2017)\n",
    "\n",
    "[Website Exhibition Frankfurter Kunstverein](https://www.fkv.de/fito-segrera/)\n",
    "\n",
    "```{margin}\n",
    "Fito Segrera: 1 & N Chairs (2017)<br>\n",
    "LCD screens, micro-computers, Internet connection, cognitive computation engine and custom software.\n",
    "```\n",
    "![Fito Segrera: 1 & N Chairs (2017)](img/FitoSegrera_1&NChairs_2017.jpg)\n",
    "\n",
    "<br>\n",
    "\n",
    "### Philipp Schmitt: Computed Curation (2016-17/18)\n",
    "\n",
    "[Website Exhibition Frankfurter Kunstverein](https://www.fkv.de/fito-segrera/)\n",
    "\n",
    "[Project Page](https://philippschmitt.com/work/computed-curation)  \n",
    "[Book (Video)](https://vimeo.com/266039697)  \n",
    "[Production Process](https://vimeo.com/225081193)  \n",
    "\n",
    "```{margin}\n",
    "Philipp Schmitt: Computed Curation (2016-17/18)\n",
    "```\n",
    "![Philipp Schmitt: Computed Curation (2016-17/18))](img/PhilippSchmitt_ComputedCuration-1.jpg)\n",
    "\n",
    "<br>\n",
    "\n",
    "```{margin}\n",
    "Philipp Schmitt: Computed Curation (2016-17/18)\n",
    "```\n",
    "![Philipp Schmitt: Computed Curation (2016-17/18))](img/PhilippSchmitt_ComputedCuration-3.jpg)\n",
    "\n",
    "<br>\n",
    "\n",
    "### Excavating AI - Kate Crawford and Trevor Paglen (2018)\n",
    "\n",
    "[Excavating AI - Kate Crawford and Trevor Paglen (2018)](https://excavating.ai/)\n",
    "\n",
    "```{margin}\n",
    "Excavating AI - Kate Crawford and Trevor Paglen (2018)\n",
    "```\n",
    "![Excavating AI](img/ex.jpg)\n",
    "\n",
    "<br>\n",
    "\n",
    "### From ‘Apple’ to ‘Anomaly’ - Trevor Paglen (2019)\n",
    "\n",
    "[From ‘Apple’ to ‘Anomaly’ - Trevor Paglen (2019)](https://paglen.studio/2020/04/09/from-apple-to-anomaly-pictures-and-labels-selections-from-the-imagenet-dataset-for-object-recognition/)\n",
    "\n",
    "```{margin}\n",
    "From ‘Apple’ to ‘Anomaly’ - Trevor Paglen (2019)\n",
    "```\n",
    "![From ‘Apple’ to ‘Anomaly’](img/Trevor.jpg)\n"
   ]
  },
  {
   "cell_type": "markdown",
   "id": "a4516214",
   "metadata": {},
   "source": [
    "### Captioning\n"
   ]
  },
  {
   "cell_type": "code",
   "execution_count": null,
   "id": "3b54c696",
   "metadata": {},
   "outputs": [],
   "source": [
    "import gradio as gr\n",
    "from PIL import Image\n",
    "import torch\n",
    "from transformers import BlipProcessor, BlipForConditionalGeneration\n",
    "\n",
    "# 1. Load BLIP processor and model\n",
    "processor = BlipProcessor.from_pretrained(\"Salesforce/blip-image-captioning-base\")\n",
    "model = BlipForConditionalGeneration.from_pretrained(\"Salesforce/blip-image-captioning-base\")\n",
    "model.eval()\n",
    "\n",
    "# 2. Define a captioning function\n",
    "def generate_caption(image: Image.Image) -> str:\n",
    "    \"\"\"\n",
    "    Takes a PIL Image from Gradio’s camera input and returns a text caption.\n",
    "    \"\"\"\n",
    "    # Preprocess the image\n",
    "    inputs = processor(images=image, return_tensors=\"pt\")\n",
    "\n",
    "    # Generate caption (you can adjust num_beams, max_length, etc. as needed)\n",
    "    with torch.no_grad():\n",
    "        out = model.generate(\n",
    "            **inputs,\n",
    "            num_beams=5,\n",
    "            max_length=20\n",
    "        )\n",
    "    caption = processor.decode(out[0], skip_special_tokens=True)\n",
    "    return caption\n",
    "\n",
    "# 3. Set up Gradio interface with a webcam (camera) input\n",
    "camera_input = gr.Image(type=\"pil\")\n",
    "\n",
    "iface = gr.Interface(\n",
    "    fn=generate_caption,\n",
    "    inputs=camera_input,\n",
    "    outputs=\"text\",\n",
    "    title=\"BLIP Image Captioning (Webcam)\",\n",
    "    description=\"Point your webcam at something, click 'Submit', and BLIP will describe what it sees.\"\n",
    ")\n",
    "\n",
    "# 4. Launch the app\n",
    "if __name__ == \"__main__\":\n",
    "    iface.launch()\n"
   ]
  },
  {
   "cell_type": "markdown",
   "id": "ccf7828f",
   "metadata": {},
   "source": [
    "\n",
    "### Visual Question Answering\n"
   ]
  },
  {
   "cell_type": "code",
   "execution_count": 1,
   "id": "00c09f4f",
   "metadata": {},
   "outputs": [
    {
     "name": "stderr",
     "output_type": "stream",
     "text": [
      "Using a slow image processor as `use_fast` is unset and a slow processor was saved with this model. `use_fast=True` will be the default behavior in v4.52, even if the model was saved with a slow processor. This will result in minor differences in outputs. You'll still be able to use a slow processor with `use_fast=False`.\n"
     ]
    },
    {
     "name": "stdout",
     "output_type": "stream",
     "text": [
      "* Running on local URL:  http://127.0.0.1:7860\n",
      "\n",
      "To create a public link, set `share=True` in `launch()`.\n"
     ]
    },
    {
     "data": {
      "text/html": [
       "<div><iframe src=\"http://127.0.0.1:7860/\" width=\"100%\" height=\"500\" allow=\"autoplay; camera; microphone; clipboard-read; clipboard-write;\" frameborder=\"0\" allowfullscreen></iframe></div>"
      ],
      "text/plain": [
       "<IPython.core.display.HTML object>"
      ]
     },
     "metadata": {},
     "output_type": "display_data"
    }
   ],
   "source": [
    "import gradio as gr\n",
    "from PIL import Image\n",
    "import torch\n",
    "from transformers import BlipProcessor, BlipForQuestionAnswering\n",
    "\n",
    "# 1. Load BLIP VQA processor and model\n",
    "processor = BlipProcessor.from_pretrained(\"Salesforce/blip-vqa-base\")\n",
    "model = BlipForQuestionAnswering.from_pretrained(\"Salesforce/blip-vqa-base\")\n",
    "model.eval()\n",
    "\n",
    "# 2. Define a VQA‐style function\n",
    "def answer_question(image: Image.Image, question: str) -> str:\n",
    "    \"\"\"\n",
    "    Takes a PIL Image and a text question, \n",
    "    returns BLIP’s predicted answer.\n",
    "    \"\"\"\n",
    "    # Preprocess both image and text\n",
    "    inputs = processor(images=image, text=question, return_tensors=\"pt\")\n",
    "\n",
    "    # Generate answer (you can tune num_beams, max_length, etc.)\n",
    "    with torch.no_grad():\n",
    "        out = model.generate(\n",
    "            **inputs,\n",
    "            num_beams=5,\n",
    "            max_length=10\n",
    "        )\n",
    "    answer = processor.decode(out[0], skip_special_tokens=True)\n",
    "    return answer\n",
    "\n",
    "# 3. Set up Gradio interface with a camera input + text box\n",
    "camera_input = gr.Image(type=\"pil\", label=\"Webcam Image\")\n",
    "text_input = gr.Textbox(lines=2, placeholder=\"Ask a question about the image…\", label=\"Question\")\n",
    "\n",
    "iface = gr.Interface(\n",
    "    fn=answer_question,\n",
    "    inputs=[camera_input, text_input],\n",
    "    outputs=\"text\",\n",
    "    title=\"BLIP VQA (Webcam)\",\n",
    "    description=\"Point your webcam at something, type a question, click 'Submit', and BLIP will answer.\"\n",
    ")\n",
    "\n",
    "# 4. Launch the app\n",
    "if __name__ == \"__main__\":\n",
    "    iface.launch()\n"
   ]
  }
 ],
 "metadata": {
  "kernelspec": {
   "display_name": "jupyter-gpu",
   "language": "python",
   "name": "python3"
  },
  "language_info": {
   "codemirror_mode": {
    "name": "ipython",
    "version": 3
   },
   "file_extension": ".py",
   "mimetype": "text/x-python",
   "name": "python",
   "nbconvert_exporter": "python",
   "pygments_lexer": "ipython3",
   "version": "3.10.16"
  }
 },
 "nbformat": 4,
 "nbformat_minor": 5
}
